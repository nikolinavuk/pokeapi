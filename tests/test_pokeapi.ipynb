{
 "cells": [
  {
   "cell_type": "code",
   "execution_count": 9,
   "metadata": {},
   "outputs": [
    {
     "ename": "ModuleNotFoundError",
     "evalue": "No module named 'poke_api'",
     "output_type": "error",
     "traceback": [
      "\u001b[0;31m---------------------------------------------------------------------------\u001b[0m",
      "\u001b[0;31mModuleNotFoundError\u001b[0m                       Traceback (most recent call last)",
      "Cell \u001b[0;32mIn[9], line 5\u001b[0m\n\u001b[1;32m      2\u001b[0m \u001b[39mimport\u001b[39;00m \u001b[39mos\u001b[39;00m\n\u001b[1;32m      3\u001b[0m \u001b[39mfrom\u001b[39;00m \u001b[39munittest\u001b[39;00m\u001b[39m.\u001b[39;00m\u001b[39mmock\u001b[39;00m \u001b[39mimport\u001b[39;00m patch, mock_open\n\u001b[0;32m----> 5\u001b[0m \u001b[39mfrom\u001b[39;00m \u001b[39mpoke_api\u001b[39;00m \u001b[39mimport\u001b[39;00m save_response\n\u001b[1;32m      7\u001b[0m \u001b[39mclass\u001b[39;00m \u001b[39mTestSaveResponse\u001b[39;00m(unittest\u001b[39m.\u001b[39mTestCase):\n\u001b[1;32m      8\u001b[0m     \u001b[39m@patch\u001b[39m(\u001b[39mf\u001b[39m\u001b[39m\"\u001b[39m\u001b[39m{\u001b[39;00mpoke_api\u001b[39m.\u001b[39m\u001b[39m__name__\u001b[39m\u001b[39m}\u001b[39;00m\u001b[39m.open\u001b[39m\u001b[39m\"\u001b[39m, mock_open())\n\u001b[1;32m      9\u001b[0m     \u001b[39m@patch\u001b[39m(\u001b[39mf\u001b[39m\u001b[39m\"\u001b[39m\u001b[39m{\u001b[39;00mpoke_api\u001b[39m.\u001b[39m\u001b[39m__name__\u001b[39m\u001b[39m}\u001b[39;00m\u001b[39m.json.dump\u001b[39m\u001b[39m\"\u001b[39m)\n\u001b[1;32m     10\u001b[0m     \u001b[39mdef\u001b[39;00m \u001b[39mtest_save_response\u001b[39m(\u001b[39mself\u001b[39m, mock_json_dump, mock_file_open):\n",
      "\u001b[0;31mModuleNotFoundError\u001b[0m: No module named 'poke_api'"
     ]
    }
   ],
   "source": [
    "import unittest\n",
    "import os\n",
    "from unittest.mock import patch, mock_open\n",
    "\n",
    "from poke_api import save_response\n",
    "\n",
    "class TestSaveResponse(unittest.TestCase):\n",
    "    @patch(f\"{poke_api.__name__}.open\", mock_open())\n",
    "    @patch(f\"{poke_api.__name__}.json.dump\")\n",
    "    def test_save_response(self, mock_json_dump, mock_file_open):\n",
    "        data = [1, 2, 3]\n",
    "        file_name = \"test_file.txt\"\n",
    "        directory_name = \"test_dir\"\n",
    "\n",
    "        save_response(data, file_name, directory_name)\n",
    "\n",
    "        # check that the file was opened and saved correctly\n",
    "        filename = os.path.join(directory_name, file_name)\n",
    "        mock_file_open.assert_called_with(filename, mode=\"w\", encoding=\"utf-8\")\n",
    "        mock_json_dump.assert_called_with(data, mock_file_open())\n",
    "\n",
    "if __name__ == \"__main__\":\n",
    "    unittest.main()\n"
   ]
  }
 ],
 "metadata": {
  "kernelspec": {
   "display_name": "3.8.16-pokemon",
   "language": "python",
   "name": "python3"
  },
  "language_info": {
   "codemirror_mode": {
    "name": "ipython",
    "version": 3
   },
   "file_extension": ".py",
   "mimetype": "text/x-python",
   "name": "python",
   "nbconvert_exporter": "python",
   "pygments_lexer": "ipython3",
   "version": "3.8.16"
  },
  "orig_nbformat": 4
 },
 "nbformat": 4,
 "nbformat_minor": 2
}
