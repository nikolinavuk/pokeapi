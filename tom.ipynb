{
 "cells": [
  {
   "cell_type": "code",
   "execution_count": null,
   "metadata": {},
   "outputs": [],
   "source": [
    "wanted_games = [\"red\", \"blue\", \"leafgreen\", \"white\"]\n",
    "# APi to get all pokemon in each game + write to file (optional)\n",
    "\n",
    "# for each pokemon, look up using ID to get all the info + write to file (optional)\n",
    "\n",
    "# if storing output in multiple files, each file should have some logical grouping (game colour, )"
   ]
  }
 ],
 "metadata": {
  "language_info": {
   "name": "python"
  },
  "orig_nbformat": 4
 },
 "nbformat": 4,
 "nbformat_minor": 2
}
