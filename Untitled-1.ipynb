{
 "cells": [
  {
   "cell_type": "code",
   "execution_count": 1,
   "metadata": {},
   "outputs": [],
   "source": [
    "import requests\n",
    "import json\n",
    "\n",
    "\n",
    "# for pokemon in dict_response\n",
    "all_url = \"https://pokeapi.co/api/v2/pokemon-species/\"\n",
    "wanted_games = [\"red\", \"blue\", \"leafgreen\", \"white\"]\n",
    "\n",
    "pokemon_by_version = {version: [] for version in wanted_games}\n",
    "\n",
    "# limit the calls, use pagination\n",
    "offset = 0\n",
    "limit = 100\n",
    "\n",
    "pokemon_count = 0\n",
    "\n",
    "#while pokemon_count < 200:\n",
    "while True:\n",
    "    dict_response = requests.get(f\"{all_url}?offset={offset}&limit={limit}\").json()\n",
    "    get_pokemon = dict_response[\"results\"]\n",
    "\n",
    "    if len(get_pokemon) == 0:\n",
    "        break\n",
    "\n",
    "    for pokemon in get_pokemon:\n",
    "        individual_pokemon = pokemon[\"url\"]\n",
    "\n",
    "        get_url = requests.get(individual_pokemon).json()\n",
    "\n",
    "        if len(get_url[\"flavor_text_entries\"]) > 0:\n",
    "            for game_version in get_url[\"flavor_text_entries\"]:\n",
    "                version_name = game_version[\"version\"][\"name\"]\n",
    "\n",
    "                if version_name in wanted_games and game_version[\"flavor_text\"]:\n",
    "                    pokemon_by_version[version_name].append(pokemon[\"name\"])\n",
    "\n",
    "                break\n",
    "    if dict_response[\"next\"]:\n",
    "        break\n",
    "    else:\n",
    "        offset += limit\n"
   ]
  },
  {
   "cell_type": "code",
   "execution_count": 37,
   "metadata": {},
   "outputs": [],
   "source": [
    "pokemon_red = set(pokemon_by_version[\"red\"])\n",
    "pokemon_blue = set(pokemon_by_version[\"blue\"])\n",
    "pokemon_leaf_green = set(pokemon_by_version[\"leafgreen\"])\n",
    "pokemon_white = set(pokemon_by_version[\"white\"])\n",
    "\n",
    "filtered_pokemon = sorted(\n",
    "    list(pokemon_red.union(pokemon_blue, pokemon_leaf_green, pokemon_white))\n",
    ")\n",
    "# print(filtered_pokemon)\n",
    "# print(type(filtered_pokemon))\n"
   ]
  },
  {
   "cell_type": "code",
   "execution_count": 43,
   "metadata": {},
   "outputs": [
    {
     "name": "stdout",
     "output_type": "stream",
     "text": [
      "84\n"
     ]
    }
   ],
   "source": [
    "# make a call with the names only from the deduplicated set\n",
    "\n",
    "pokemon_url = \"https://pokeapi.co/api/v2/pokemon\"\n",
    "pokemon_list = []\n",
    "\n",
    "for pokemon in filtered_pokemon:\n",
    "    pokemon_data = requests.get(f\"{pokemon_url}/{pokemon}\").json()\n",
    "\n",
    "    wanted_slots = [1, 2]  # list\n",
    "    available_slots = [type_dict[\"slot\"] for type_dict in pokemon_data[\"types\"]]\n",
    "    # attack_types = [d[\"type\"] for d in pokemon_data]\n",
    "\n",
    "    # check =  all(item in available_slots  for item in wanted_slots)\n",
    "    slots = []\n",
    "    if any(slot in available_slots for slot in wanted_slots):\n",
    "        for type_dict in pokemon_data[\"types\"]:\n",
    "            slot = type_dict.get(\"slot\")\n",
    "            attack_name = type_dict.get(\"type\").get(\"name\")\n",
    "            slots.append({slot: attack_name})\n",
    "\n",
    "    default_sprites = pokemon_data[\"sprites\"][\"front_default\"]\n",
    "\n",
    "    # dynamically populate slot 2\n",
    "\n",
    "    stats = {\n",
    "        \"name\": pokemon_data[\"name\"].capitalize(),\n",
    "        \"id\": pokemon_data[\"id\"],\n",
    "        \"base_experience\": pokemon_data[\"base_experience\"],\n",
    "        \"weight\": pokemon_data[\"weight\"],\n",
    "        \"height\": pokemon_data[\"height\"],\n",
    "        \"order\": pokemon_data[\"order\"],\n",
    "        \"slot 1\": slots[0].get(1),\n",
    "        \"bmi\": round(pokemon_data[\"weight\"] / (pokemon_data[\"height\"] ** 2), 4),\n",
    "        \"front_default\": pokemon_data[\"sprites\"][\"front_default\"],\n",
    "    }\n",
    "\n",
    "    # remove slot 2 is empty\n",
    "    # only add slot 2 if it exists\n",
    "    # print(len(slots))\n",
    "\n",
    "    if len(slots) > 1:\n",
    "        stats[\"slot 2\"] = slots[1].get(2)\n",
    "\n",
    "        # Move \"slot 2\" after \"slot 1\" in the dictionary\n",
    "        new_stats = {}\n",
    "        for key, value in stats.items():\n",
    "            if key == \"slot 1\":\n",
    "                new_stats[key] = value\n",
    "                if \"slot 2\" in stats:\n",
    "                    new_stats[\"slot 2\"] = stats[\"slot 2\"]\n",
    "            elif key != \"slot 2\":\n",
    "                new_stats[key] = value\n",
    "\n",
    "        stats = new_stats\n",
    "\n",
    "    pokemon_list.append(stats)\n",
    "\n",
    "print(len(pokemon_list))\n",
    "\n",
    "\n"
   ]
  },
  {
   "cell_type": "code",
   "execution_count": 54,
   "metadata": {},
   "outputs": [],
   "source": [
    "increment = 20\n",
    "chunks = [pokemon_list[i:i+increment] for i in range(0, len(pokemon_list), increment)]\n",
    "\n",
    "for i, chunk in enumerate(chunks):\n",
    "    with open(f\"pokemon_file_{i+1}.json\", \"w\") as f:\n",
    "        json.dump(chunk, f)"
   ]
  },
  {
   "cell_type": "code",
   "execution_count": 80,
   "metadata": {},
   "outputs": [
    {
     "name": "stdout",
     "output_type": "stream",
     "text": [
      "[{'name': 'Abra', 'id': 63, 'base_experience': 62, 'weight': 195, 'height': 9, 'order': 103, 'slot 1': 'psychic', 'bmi': 2.4074, 'front_default': 'https://raw.githubusercontent.com/PokeAPI/sprites/master/sprites/pokemon/63.png'}, {'name': 'Alakazam', 'id': 65, 'base_experience': 250, 'weight': 480, 'height': 15, 'order': 105, 'slot 1': 'psychic', 'bmi': 2.1333, 'front_default': 'https://raw.githubusercontent.com/PokeAPI/sprites/master/sprites/pokemon/65.png'}, {'name': 'Arbok', 'id': 24, 'base_experience': 157, 'weight': 650, 'height': 35, 'order': 33, 'slot 1': 'poison', 'bmi': 0.5306, 'front_default': 'https://raw.githubusercontent.com/PokeAPI/sprites/master/sprites/pokemon/24.png'}, {'name': 'Arcanine', 'id': 59, 'base_experience': 194, 'weight': 1550, 'height': 19, 'order': 98, 'slot 1': 'fire', 'bmi': 4.2936, 'front_default': 'https://raw.githubusercontent.com/PokeAPI/sprites/master/sprites/pokemon/59.png'}, {'name': 'Bellsprout', 'id': 69, 'base_experience': 60, 'weight': 40, 'height': 7, 'order': 110, 'slot 1': 'grass', 'slot 2': 'poison', 'bmi': 0.8163, 'front_default': 'https://raw.githubusercontent.com/PokeAPI/sprites/master/sprites/pokemon/69.png'}, {'name': 'Blastoise', 'id': 9, 'base_experience': 265, 'weight': 855, 'height': 16, 'order': 12, 'slot 1': 'water', 'bmi': 3.3398, 'front_default': 'https://raw.githubusercontent.com/PokeAPI/sprites/master/sprites/pokemon/9.png'}, {'name': 'Bulbasaur', 'id': 1, 'base_experience': 64, 'weight': 69, 'height': 7, 'order': 1, 'slot 1': 'grass', 'slot 2': 'poison', 'bmi': 1.4082, 'front_default': 'https://raw.githubusercontent.com/PokeAPI/sprites/master/sprites/pokemon/1.png'}, {'name': 'Butterfree', 'id': 12, 'base_experience': 198, 'weight': 320, 'height': 11, 'order': 16, 'slot 1': 'bug', 'slot 2': 'flying', 'bmi': 2.6446, 'front_default': 'https://raw.githubusercontent.com/PokeAPI/sprites/master/sprites/pokemon/12.png'}, {'name': 'Charizard', 'id': 6, 'base_experience': 267, 'weight': 905, 'height': 17, 'order': 7, 'slot 1': 'fire', 'slot 2': 'flying', 'bmi': 3.1315, 'front_default': 'https://raw.githubusercontent.com/PokeAPI/sprites/master/sprites/pokemon/6.png'}, {'name': 'Charmander', 'id': 4, 'base_experience': 62, 'weight': 85, 'height': 6, 'order': 5, 'slot 1': 'fire', 'bmi': 2.3611, 'front_default': 'https://raw.githubusercontent.com/PokeAPI/sprites/master/sprites/pokemon/4.png'}, {'name': 'Charmeleon', 'id': 5, 'base_experience': 142, 'weight': 190, 'height': 11, 'order': 6, 'slot 1': 'fire', 'bmi': 1.5702, 'front_default': 'https://raw.githubusercontent.com/PokeAPI/sprites/master/sprites/pokemon/5.png'}, {'name': 'Clefable', 'id': 36, 'base_experience': 242, 'weight': 400, 'height': 13, 'order': 65, 'slot 1': 'fairy', 'bmi': 2.3669, 'front_default': 'https://raw.githubusercontent.com/PokeAPI/sprites/master/sprites/pokemon/36.png'}, {'name': 'Clefairy', 'id': 35, 'base_experience': 113, 'weight': 75, 'height': 6, 'order': 64, 'slot 1': 'fairy', 'bmi': 2.0833, 'front_default': 'https://raw.githubusercontent.com/PokeAPI/sprites/master/sprites/pokemon/35.png'}, {'name': 'Cloyster', 'id': 91, 'base_experience': 184, 'weight': 1325, 'height': 15, 'order': 146, 'slot 1': 'water', 'slot 2': 'ice', 'bmi': 5.8889, 'front_default': 'https://raw.githubusercontent.com/PokeAPI/sprites/master/sprites/pokemon/91.png'}, {'name': 'Dewgong', 'id': 87, 'base_experience': 166, 'weight': 1200, 'height': 17, 'order': 140, 'slot 1': 'water', 'slot 2': 'ice', 'bmi': 4.1522, 'front_default': 'https://raw.githubusercontent.com/PokeAPI/sprites/master/sprites/pokemon/87.png'}, {'name': 'Doduo', 'id': 84, 'base_experience': 62, 'weight': 392, 'height': 14, 'order': 137, 'slot 1': 'normal', 'slot 2': 'flying', 'bmi': 2.0, 'front_default': 'https://raw.githubusercontent.com/PokeAPI/sprites/master/sprites/pokemon/84.png'}, {'name': 'Drowzee', 'id': 96, 'base_experience': 66, 'weight': 324, 'height': 10, 'order': 154, 'slot 1': 'psychic', 'bmi': 3.24, 'front_default': 'https://raw.githubusercontent.com/PokeAPI/sprites/master/sprites/pokemon/96.png'}, {'name': 'Dugtrio', 'id': 51, 'base_experience': 149, 'weight': 333, 'height': 7, 'order': 86, 'slot 1': 'ground', 'bmi': 6.7959, 'front_default': 'https://raw.githubusercontent.com/PokeAPI/sprites/master/sprites/pokemon/51.png'}, {'name': 'Ekans', 'id': 23, 'base_experience': 58, 'weight': 69, 'height': 20, 'order': 32, 'slot 1': 'poison', 'bmi': 0.1725, 'front_default': 'https://raw.githubusercontent.com/PokeAPI/sprites/master/sprites/pokemon/23.png'}, {'name': 'Farfetchd', 'id': 83, 'base_experience': 132, 'weight': 150, 'height': 8, 'order': 135, 'slot 1': 'normal', 'slot 2': 'flying', 'bmi': 2.3438, 'front_default': 'https://raw.githubusercontent.com/PokeAPI/sprites/master/sprites/pokemon/83.png'}]\n",
      "Abra\n",
      "63\n",
      "103\n",
      "https://raw.githubusercontent.com/PokeAPI/sprites/master/sprites/pokemon/63.png\n",
      "40d77cf40e6361ad19861f6cf8f9a977da585d0f399486c479c66302ba188b34\n",
      "da4ea2a5506f2693eae190d9360a1f31793c98a1adade51d93533a6f520ace1c\n",
      "454f63ac30c8322997ef025edff6abd23e0dbe7b8a3d5126a894e4a168c1b59b\n",
      "32619a5476b96cb6c390e866433c6a2a6929b7c491f6d88375b35e241e4359d0\n"
     ]
    }
   ],
   "source": [
    "# obfuscate data\n",
    "\n",
    "import json\n",
    "import hashlib\n",
    "\n",
    "with open(\"pokemon_file_1.json\", \"r\") as json_file:\n",
    "    data = json.load(json_file)\n",
    "\n",
    "print(data)\n",
    "\n",
    "\"\"\" new_dict = {}\n",
    "for item in data:\n",
    "   name = item.pop('name')\n",
    "   new_dict[name] = item \"\"\"\n",
    "\n",
    "name = data[0].get(\"name\")\n",
    "id = data[0].get(\"id\")\n",
    "height = data[0].get(\"height\")\n",
    "weight = data[0].get(\"weight\")\n",
    "front_default = data[0].get(\"front_default\")\n",
    "print(name)\n",
    "print(id)\n",
    "print(order)\n",
    "print(front_default)\n",
    "\n",
    "\n",
    "def hash(data):\n",
    "    sha256 = hashlib.sha256()\n",
    "    sha256.update(data.encode()) #.encode('utf-8'))\n",
    "    return sha256.hexdigest()\n",
    "\n",
    "print(hash(name))\n",
    "print(hash(str(id)))\n",
    "print(hash(str(height)))\n",
    "print(hash(str(weight)))\n",
    "print(hash(front_default))\n",
    "\n",
    "\n",
    "\n",
    "\n",
    "\n",
    "\n"
   ]
  },
  {
   "cell_type": "code",
   "execution_count": 40,
   "metadata": {},
   "outputs": [
    {
     "ename": "TypeError",
     "evalue": "unhashable type: 'dict'",
     "output_type": "error",
     "traceback": [
      "\u001b[0;31m---------------------------------------------------------------------------\u001b[0m",
      "\u001b[0;31mTypeError\u001b[0m                                 Traceback (most recent call last)",
      "Cell \u001b[0;32mIn[40], line 5\u001b[0m\n\u001b[1;32m      3\u001b[0m SIZE \u001b[39m=\u001b[39m \u001b[39m10000\u001b[39m\n\u001b[1;32m      4\u001b[0m iterator \u001b[39m=\u001b[39m \u001b[39miter\u001b[39m(pokemon_list)\n\u001b[0;32m----> 5\u001b[0m chunks \u001b[39m=\u001b[39m [\n\u001b[1;32m      6\u001b[0m     {k: stats[k] \u001b[39mfor\u001b[39;00m k \u001b[39min\u001b[39;00m islice(iterator, SIZE)} \u001b[39mfor\u001b[39;00m i \u001b[39min\u001b[39;00m \u001b[39mrange\u001b[39m(\u001b[39m0\u001b[39m, \u001b[39mlen\u001b[39m(stats), SIZE)\n\u001b[1;32m      7\u001b[0m ]\n\u001b[1;32m      8\u001b[0m \u001b[39mprint\u001b[39m(chunks)\n\u001b[1;32m     10\u001b[0m \u001b[39mfor\u001b[39;00m i, chunk \u001b[39min\u001b[39;00m \u001b[39menumerate\u001b[39m(chunks):\n",
      "Cell \u001b[0;32mIn[40], line 6\u001b[0m, in \u001b[0;36m<listcomp>\u001b[0;34m(.0)\u001b[0m\n\u001b[1;32m      3\u001b[0m SIZE \u001b[39m=\u001b[39m \u001b[39m10000\u001b[39m\n\u001b[1;32m      4\u001b[0m iterator \u001b[39m=\u001b[39m \u001b[39miter\u001b[39m(pokemon_list)\n\u001b[1;32m      5\u001b[0m chunks \u001b[39m=\u001b[39m [\n\u001b[0;32m----> 6\u001b[0m     {k: stats[k] \u001b[39mfor\u001b[39;00m k \u001b[39min\u001b[39;00m islice(iterator, SIZE)} \u001b[39mfor\u001b[39;00m i \u001b[39min\u001b[39;00m \u001b[39mrange\u001b[39m(\u001b[39m0\u001b[39m, \u001b[39mlen\u001b[39m(stats), SIZE)\n\u001b[1;32m      7\u001b[0m ]\n\u001b[1;32m      8\u001b[0m \u001b[39mprint\u001b[39m(chunks)\n\u001b[1;32m     10\u001b[0m \u001b[39mfor\u001b[39;00m i, chunk \u001b[39min\u001b[39;00m \u001b[39menumerate\u001b[39m(chunks):\n",
      "Cell \u001b[0;32mIn[40], line 6\u001b[0m, in \u001b[0;36m<dictcomp>\u001b[0;34m(.0)\u001b[0m\n\u001b[1;32m      3\u001b[0m SIZE \u001b[39m=\u001b[39m \u001b[39m10000\u001b[39m\n\u001b[1;32m      4\u001b[0m iterator \u001b[39m=\u001b[39m \u001b[39miter\u001b[39m(pokemon_list)\n\u001b[1;32m      5\u001b[0m chunks \u001b[39m=\u001b[39m [\n\u001b[0;32m----> 6\u001b[0m     {k: stats[k] \u001b[39mfor\u001b[39;00m k \u001b[39min\u001b[39;00m islice(iterator, SIZE)} \u001b[39mfor\u001b[39;00m i \u001b[39min\u001b[39;00m \u001b[39mrange\u001b[39m(\u001b[39m0\u001b[39m, \u001b[39mlen\u001b[39m(stats), SIZE)\n\u001b[1;32m      7\u001b[0m ]\n\u001b[1;32m      8\u001b[0m \u001b[39mprint\u001b[39m(chunks)\n\u001b[1;32m     10\u001b[0m \u001b[39mfor\u001b[39;00m i, chunk \u001b[39min\u001b[39;00m \u001b[39menumerate\u001b[39m(chunks):\n",
      "\u001b[0;31mTypeError\u001b[0m: unhashable type: 'dict'"
     ]
    }
   ],
   "source": [
    "from itertools import islice\n",
    "\n",
    "SIZE = 10000\n",
    "iterator = iter(pokemon_list)\n",
    "chunks = [\n",
    "    {k: stats[k] for k in islice(iterator, SIZE)} for i in range(0, len(stats), SIZE)\n",
    "]\n",
    "print(chunks)\n",
    "\n",
    "for i, chunk in enumerate(chunks):\n",
    "    with open(f\"pokemon_file{i}.json\", \"w\") as json_file:\n",
    "        json.dump(chunk, json_file, indent=4, separators=(\",\", \":\"))\n"
   ]
  },
  {
   "cell_type": "code",
   "execution_count": 41,
   "metadata": {},
   "outputs": [
    {
     "ename": "IndexError",
     "evalue": "list index out of range",
     "output_type": "error",
     "traceback": [
      "\u001b[0;31m---------------------------------------------------------------------------\u001b[0m",
      "\u001b[0;31mIndexError\u001b[0m                                Traceback (most recent call last)",
      "Cell \u001b[0;32mIn[41], line 10\u001b[0m\n\u001b[1;32m      7\u001b[0m     data \u001b[39m=\u001b[39m json\u001b[39m.\u001b[39mload(json_file)\n\u001b[1;32m      9\u001b[0m \u001b[39m# Split the data into chunks\u001b[39;00m\n\u001b[0;32m---> 10\u001b[0m chunks \u001b[39m=\u001b[39m [{i: data[i] \u001b[39mfor\u001b[39;00m i \u001b[39min\u001b[39;00m \u001b[39mrange\u001b[39m(start, start \u001b[39m+\u001b[39m SIZE)} \u001b[39mfor\u001b[39;00m start \u001b[39min\u001b[39;00m \u001b[39mrange\u001b[39m(\u001b[39m0\u001b[39m, \u001b[39mlen\u001b[39m(data), SIZE)]\n\u001b[1;32m     12\u001b[0m \u001b[39m# Save each chunk as a separate file\u001b[39;00m\n\u001b[1;32m     13\u001b[0m \u001b[39mfor\u001b[39;00m i, chunk \u001b[39min\u001b[39;00m \u001b[39menumerate\u001b[39m(chunks):\n",
      "Cell \u001b[0;32mIn[41], line 10\u001b[0m, in \u001b[0;36m<listcomp>\u001b[0;34m(.0)\u001b[0m\n\u001b[1;32m      7\u001b[0m     data \u001b[39m=\u001b[39m json\u001b[39m.\u001b[39mload(json_file)\n\u001b[1;32m      9\u001b[0m \u001b[39m# Split the data into chunks\u001b[39;00m\n\u001b[0;32m---> 10\u001b[0m chunks \u001b[39m=\u001b[39m [{i: data[i] \u001b[39mfor\u001b[39;00m i \u001b[39min\u001b[39;00m \u001b[39mrange\u001b[39m(start, start \u001b[39m+\u001b[39m SIZE)} \u001b[39mfor\u001b[39;00m start \u001b[39min\u001b[39;00m \u001b[39mrange\u001b[39m(\u001b[39m0\u001b[39m, \u001b[39mlen\u001b[39m(data), SIZE)]\n\u001b[1;32m     12\u001b[0m \u001b[39m# Save each chunk as a separate file\u001b[39;00m\n\u001b[1;32m     13\u001b[0m \u001b[39mfor\u001b[39;00m i, chunk \u001b[39min\u001b[39;00m \u001b[39menumerate\u001b[39m(chunks):\n",
      "Cell \u001b[0;32mIn[41], line 10\u001b[0m, in \u001b[0;36m<dictcomp>\u001b[0;34m(.0)\u001b[0m\n\u001b[1;32m      7\u001b[0m     data \u001b[39m=\u001b[39m json\u001b[39m.\u001b[39mload(json_file)\n\u001b[1;32m      9\u001b[0m \u001b[39m# Split the data into chunks\u001b[39;00m\n\u001b[0;32m---> 10\u001b[0m chunks \u001b[39m=\u001b[39m [{i: data[i] \u001b[39mfor\u001b[39;00m i \u001b[39min\u001b[39;00m \u001b[39mrange\u001b[39m(start, start \u001b[39m+\u001b[39m SIZE)} \u001b[39mfor\u001b[39;00m start \u001b[39min\u001b[39;00m \u001b[39mrange\u001b[39m(\u001b[39m0\u001b[39m, \u001b[39mlen\u001b[39m(data), SIZE)]\n\u001b[1;32m     12\u001b[0m \u001b[39m# Save each chunk as a separate file\u001b[39;00m\n\u001b[1;32m     13\u001b[0m \u001b[39mfor\u001b[39;00m i, chunk \u001b[39min\u001b[39;00m \u001b[39menumerate\u001b[39m(chunks):\n",
      "\u001b[0;31mIndexError\u001b[0m: list index out of range"
     ]
    }
   ],
   "source": [
    "import json\n",
    "from itertools import islice\n",
    "\n",
    "SIZE = 50\n",
    "\n",
    "with open(\"pokemon_file.json\", \"r\") as json_file:\n",
    "    data = json.load(json_file)\n",
    "\n",
    "# Split the data into chunks\n",
    "chunks = [{i: data[i] for i in range(start, start + SIZE)} for start in range(0, len(data), SIZE)]\n",
    "\n",
    "# Save each chunk as a separate file\n",
    "for i, chunk in enumerate(chunks):\n",
    "    filename = f'chunk_{i}.json'\n",
    "    with open(filename, 'w') as f:\n",
    "        json.dump(chunk, f, indent=4, separators=(\",\", \":\"))"
   ]
  },
  {
   "cell_type": "code",
   "execution_count": 29,
   "metadata": {},
   "outputs": [],
   "source": [
    "with open(\"pokemon_file.json\", \"w\") as json_file:\n",
    "    json.dump(pokemon_list, json_file, indent=4, separators=(\",\", \":\"))\n"
   ]
  },
  {
   "cell_type": "code",
   "execution_count": 33,
   "metadata": {},
   "outputs": [],
   "source": [
    "MAX_LINES_PER_FILE = 50\n",
    "\n",
    "# Read the input JSON file into memory\n",
    "with open('pokemon_file.json', 'r') as f:\n",
    "    data = json.load(f)\n",
    "\n",
    "# Split the data into chunks of up to 50 lines each\n",
    "chunks = []\n",
    "for i in range(0, len(data), MAX_LINES_PER_FILE):\n",
    "    chunk = data[i:i + MAX_LINES_PER_FILE]\n",
    "    chunks.append(chunk)\n",
    "\n",
    "# Save each chunk as a separate file\n",
    "for i, chunk in enumerate(chunks):\n",
    "    filename = f'chunk_{i}.json'\n",
    "    with open(filename, 'w') as f:\n",
    "        json.dump(chunk, f, indent=4)"
   ]
  }
 ],
 "metadata": {
  "kernelspec": {
   "display_name": "3.8.16-pokemon",
   "language": "python",
   "name": "python3"
  },
  "language_info": {
   "codemirror_mode": {
    "name": "ipython",
    "version": 3
   },
   "file_extension": ".py",
   "mimetype": "text/x-python",
   "name": "python",
   "nbconvert_exporter": "python",
   "pygments_lexer": "ipython3",
   "version": "3.8.16"
  },
  "orig_nbformat": 4
 },
 "nbformat": 4,
 "nbformat_minor": 2
}
